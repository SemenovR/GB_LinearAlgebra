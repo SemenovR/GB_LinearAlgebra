{
 "cells": [
  {
   "cell_type": "markdown",
   "metadata": {},
   "source": [
    "# Урок 7"
   ]
  },
  {
   "cell_type": "code",
   "execution_count": 10,
   "metadata": {},
   "outputs": [],
   "source": [
    "import numpy as np\n",
    "import scipy.linalg"
   ]
  },
  {
   "cell_type": "markdown",
   "metadata": {},
   "source": [
    "__1.__ Решить систему уравнений методом Крамера:\n",
    "\n",
    "   а) $\\begin{cases}\n",
    "x_{1}-2x_{2}=1 \\\\\n",
    "3x_{1}-4x_{2}=7\n",
    "\\end{cases}$\n",
    "    \n",
    "   б) $\\begin{cases}\n",
    "2x_{1}-x_{2}+5x_{3}=10 \\\\\n",
    "x_{1}+x_{2}-3x_{3}=-2 \\\\\n",
    "2x_{1}+4x_{2}+x_{3}=1\n",
    "\\end{cases}$"
   ]
  },
  {
   "cell_type": "markdown",
   "metadata": {},
   "source": [
    "### Решение"
   ]
  },
  {
   "cell_type": "code",
   "execution_count": 9,
   "metadata": {},
   "outputs": [
    {
     "name": "stdout",
     "output_type": "stream",
     "text": [
      "а)\n",
      "x1 = 5.0\n",
      "x2 = 2.0\n",
      "б)\n",
      "x1 = 2.0\n",
      "x2 = -1.0\n",
      "x3 = 1.0\n"
     ]
    }
   ],
   "source": [
    "print('а)')\n",
    "det_a = np.linalg.det(np.array([[1, -2], \n",
    "                                [3, -4]]))\n",
    "det_a1 = np.linalg.det(np.array([[1, -2], \n",
    "                                 [7, -4]]))\n",
    "det_a2 = np.linalg.det(np.array([[1, 1], \n",
    "                                 [3, 7]]))\n",
    "\n",
    "print(f'x1 = {det_a1 / det_a:.1f}')\n",
    "print(f'x2 = {det_a2 / det_a:.1f}')\n",
    "\n",
    "print(\"б)\")\n",
    "det_a = np.linalg.det(np.array([[2, -1, 5], \n",
    "                                [1, 1, -3],\n",
    "                                [2, 4, 1]]))\n",
    "det_a1 = np.linalg.det(np.array([[10, -1, 5], \n",
    "                                 [-2, 1, -3],\n",
    "                                 [1, 4, 1]]))\n",
    "det_a2 = np.linalg.det(np.array([[2, 10, 5], \n",
    "                                 [1, -2, -3],\n",
    "                                 [2, 1, 1]]))\n",
    "det_a3 = np.linalg.det(np.array([[2, -1, 10], \n",
    "                                 [1, 1, -2],\n",
    "                                 [2, 4, 1]]))\n",
    "\n",
    "print(f'x1 = {det_a1 / det_a:.1f}')\n",
    "print(f'x2 = {det_a2 / det_a:.1f}')\n",
    "print(f'x3 = {det_a3 / det_a:.1f}')\n"
   ]
  },
  {
   "cell_type": "markdown",
   "metadata": {},
   "source": [
    "__2.__ Найти $L$-матрицу $LU$-разложения для матрицы коэффициентов:\n",
    "\n",
    "   а)$$\\begin{pmatrix}\n",
    "1 & 2 & 4 \\\\ \n",
    "2 & 9 & 12 \\\\ \n",
    "3 & 26 & 30\n",
    "\\end{pmatrix}$$\n",
    "    \n",
    "   б)$$\\begin{pmatrix}\n",
    "1 & 1 & 2 & 4\\\\ \n",
    "2 & 5 & 8 & 9\\\\ \n",
    "3 & 18 & 29 & 18\\\\\n",
    "4 & 22 & 53 & 33\n",
    "\\end{pmatrix}$$"
   ]
  },
  {
   "cell_type": "markdown",
   "metadata": {},
   "source": [
    "### Решение"
   ]
  },
  {
   "cell_type": "markdown",
   "metadata": {},
   "source": [
    "<img src=\"IMG_20200409_0001.png\">"
   ]
  },
  {
   "cell_type": "markdown",
   "metadata": {},
   "source": [
    "__3.__ Решить систему линейных уравнений методом $LU$-разложения\n",
    "\n",
    "$$\\begin{cases}\n",
    "2x_{1}+x_{2}+3x_{3}=1 \\\\\n",
    "11x_{1}+7x_{2}+5x_{3}=-6 \\\\\n",
    "9x_{1}+8x_{2}+4x_{3}=-5\n",
    "\\end{cases}$$"
   ]
  },
  {
   "cell_type": "markdown",
   "metadata": {},
   "source": [
    "### Решение"
   ]
  },
  {
   "cell_type": "markdown",
   "metadata": {},
   "source": [
    "<img src=\"IMG_20200409_0002.png\">"
   ]
  },
  {
   "cell_type": "markdown",
   "metadata": {},
   "source": [
    "__4.__ Решить систему линейных уравнений методом Холецкого\n",
    "\n",
    "$$\\begin{cases}\n",
    "81x_{1}-45x_{2}+45x_{3}=531 \\\\\n",
    "-45x_{1}+50x_{2}-15x_{3}=-460 \\\\\n",
    "45x_{1}-15x_{2}+38x_{3}=193\n",
    "\\end{cases}$$"
   ]
  },
  {
   "cell_type": "markdown",
   "metadata": {},
   "source": [
    "### Решение"
   ]
  },
  {
   "cell_type": "markdown",
   "metadata": {},
   "source": [
    "<img src=\"IMG_20200409_0004.png\">"
   ]
  },
  {
   "cell_type": "markdown",
   "metadata": {},
   "source": [
    "__5*.__ Написать на Python программу с реализацией одного из изученных алгоритмов решения СЛАУ."
   ]
  },
  {
   "cell_type": "markdown",
   "metadata": {},
   "source": [
    "### Решение"
   ]
  },
  {
   "cell_type": "code",
   "execution_count": 60,
   "metadata": {},
   "outputs": [],
   "source": [
    "# Решение СЛАУ методом Крамера\n",
    "def kramer(A):\n",
    "    r, c = A.shape\n",
    "    if r + 1 != c:\n",
    "        raise NameError('Матрица должна быть расширенной (т.е. квадратная + столбец B)!')\n",
    "        \n",
    "    c_b = c - 1 # Столбец B\n",
    "    det_a = np.linalg.det(A[:, :c_b])\n",
    "    if det_a == 0:\n",
    "        raise NameError('Матрица вырождена!')\n",
    "        \n",
    "    return [np.linalg.det(np.hstack((A[:, :i], A[:, c_b:], A[:, i + 1:c_b]))) / det_a for i in range(r)]  "
   ]
  },
  {
   "cell_type": "code",
   "execution_count": 61,
   "metadata": {},
   "outputs": [],
   "source": [
    "# Проверим с помощью написанной функции примеры из этого задания"
   ]
  },
  {
   "cell_type": "code",
   "execution_count": 62,
   "metadata": {},
   "outputs": [
    {
     "data": {
      "text/plain": [
       "[4.999999999999998, 1.9999999999999996]"
      ]
     },
     "execution_count": 62,
     "metadata": {},
     "output_type": "execute_result"
    }
   ],
   "source": [
    "kramer(np.array([[1, -2, 1], \n",
    "                 [3, -4, 7]]))"
   ]
  },
  {
   "cell_type": "code",
   "execution_count": 63,
   "metadata": {},
   "outputs": [
    {
     "data": {
      "text/plain": [
       "[2.0000000000000018, -1.0000000000000009, 1.0]"
      ]
     },
     "execution_count": 63,
     "metadata": {},
     "output_type": "execute_result"
    }
   ],
   "source": [
    "kramer(np.array([[2, -1,  5, 10], \n",
    "                 [1,  1, -3, -2],\n",
    "                 [2,  4,  1,  1]]))"
   ]
  },
  {
   "cell_type": "code",
   "execution_count": 64,
   "metadata": {},
   "outputs": [
    {
     "data": {
      "text/plain": [
       "[-0.9999999999999996, 2.4261866796878363e-16, 1.0]"
      ]
     },
     "execution_count": 64,
     "metadata": {},
     "output_type": "execute_result"
    }
   ],
   "source": [
    "kramer(np.array([[2,  1, 3,  1], \n",
    "                 [11, 7, 5, -6],\n",
    "                 [9,  8, 4, -5]]))"
   ]
  },
  {
   "cell_type": "code",
   "execution_count": 65,
   "metadata": {},
   "outputs": [
    {
     "data": {
      "text/plain": [
       "[6.000000000000018, -5.000000000000004, -4.000000000000001]"
      ]
     },
     "execution_count": 65,
     "metadata": {},
     "output_type": "execute_result"
    }
   ],
   "source": [
    "kramer(np.array([[ 81, -45,  45,  531], \n",
    "                 [-45,  50, -15, -460],\n",
    "                 [ 45, -15,  38,  193]]))"
   ]
  },
  {
   "cell_type": "code",
   "execution_count": null,
   "metadata": {},
   "outputs": [],
   "source": []
  }
 ],
 "metadata": {
  "kernelspec": {
   "display_name": "Python 3",
   "language": "python",
   "name": "python3"
  },
  "language_info": {
   "codemirror_mode": {
    "name": "ipython",
    "version": 3
   },
   "file_extension": ".py",
   "mimetype": "text/x-python",
   "name": "python",
   "nbconvert_exporter": "python",
   "pygments_lexer": "ipython3",
   "version": "3.7.4"
  }
 },
 "nbformat": 4,
 "nbformat_minor": 2
}
