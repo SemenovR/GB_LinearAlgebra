{
 "cells": [
  {
   "cell_type": "markdown",
   "metadata": {},
   "source": [
    "5*. Написать на Python функцию для перемножения двух произвольных матриц, не используя NumPy"
   ]
  },
  {
   "cell_type": "code",
   "execution_count": 53,
   "metadata": {},
   "outputs": [],
   "source": [
    "def matrix_multiply(A, B):\n",
    "    def get_shape(C):\n",
    "        for i in range(1, len(C)):\n",
    "            if len(C[i]) != len(C[i-1]):\n",
    "                raise NameError('Разные размерности строк!')\n",
    "        return len(C), len(C[0])\n",
    "    \n",
    "    a_r, a_c = get_shape(A)\n",
    "    b_r, b_c = get_shape(B)\n",
    "    if a_r == 0 or a_c == 0 or b_r == 0 or b_c == 0:\n",
    "        raise NameError('Пустая строка или столбец!')\n",
    "    elif a_c != b_r:\n",
    "        raise NameError('Число столбцов первой таблицы не равно числу строк второй таблицы!')\n",
    "    else:\n",
    "        return [[sum([A[i][k] * B[k][j] for k in range(a_c)]) for j in range(b_c)] for i in range(a_r)]  "
   ]
  },
  {
   "cell_type": "code",
   "execution_count": 54,
   "metadata": {},
   "outputs": [
    {
     "name": "stdout",
     "output_type": "stream",
     "text": [
      "[[17, 18, 11], [18, 29, 4], [11, 4, 13]]\n"
     ]
    }
   ],
   "source": [
    "A = [[4, 1], \n",
    "     [5 , -2],\n",
    "     [2 , 3]]\n",
    "\n",
    "B = [[4, 5, 2], \n",
    "     [1, -2, 3]]\n",
    "    \n",
    "print(matrix_multiply(A, B))"
   ]
  },
  {
   "cell_type": "code",
   "execution_count": 30,
   "metadata": {},
   "outputs": [
    {
     "data": {
      "text/plain": [
       "array([[17, 18, 11],\n",
       "       [18, 29,  4],\n",
       "       [11,  4, 13]])"
      ]
     },
     "execution_count": 30,
     "metadata": {},
     "output_type": "execute_result"
    }
   ],
   "source": [
    "# Проверка\n",
    "import numpy as np\n",
    "np.array(A) @ np.array(B)"
   ]
  }
 ],
 "metadata": {
  "kernelspec": {
   "display_name": "Python 3",
   "language": "python",
   "name": "python3"
  },
  "language_info": {
   "codemirror_mode": {
    "name": "ipython",
    "version": 3
   },
   "file_extension": ".py",
   "mimetype": "text/x-python",
   "name": "python",
   "nbconvert_exporter": "python",
   "pygments_lexer": "ipython3",
   "version": "3.7.3"
  }
 },
 "nbformat": 4,
 "nbformat_minor": 2
}
